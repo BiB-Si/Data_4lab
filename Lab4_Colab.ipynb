{
  "nbformat": 4,
  "nbformat_minor": 0,
  "metadata": {
    "colab": {
      "provenance": []
    },
    "kernelspec": {
      "name": "python3",
      "display_name": "Python 3"
    },
    "language_info": {
      "name": "python"
    }
  },
  "cells": [
    {
      "cell_type": "code",
      "execution_count": 2,
      "metadata": {
        "colab": {
          "base_uri": "https://localhost:8080/"
        },
        "id": "pbu-els_yVom",
        "outputId": "882d5895-6175-4101-fcf7-5443309f1999"
      },
      "outputs": [
        {
          "output_type": "stream",
          "name": "stdout",
          "text": [
            "Architecture:             x86_64\n",
            "  CPU op-mode(s):         32-bit, 64-bit\n",
            "  Address sizes:          46 bits physical, 48 bits virtual\n",
            "  Byte Order:             Little Endian\n",
            "CPU(s):                   2\n",
            "  On-line CPU(s) list:    0,1\n",
            "Vendor ID:                GenuineIntel\n",
            "  Model name:             Intel(R) Xeon(R) CPU @ 2.20GHz\n",
            "    CPU family:           6\n",
            "    Model:                79\n",
            "    Thread(s) per core:   2\n",
            "    Core(s) per socket:   1\n",
            "    Socket(s):            1\n",
            "    Stepping:             0\n",
            "    BogoMIPS:             4399.99\n",
            "    Flags:                fpu vme de pse tsc msr pae mce cx8 apic sep mtrr pge mca cmov pat pse36 cl\n",
            "                          flush mmx fxsr sse sse2 ss ht syscall nx pdpe1gb rdtscp lm constant_tsc re\n",
            "                          p_good nopl xtopology nonstop_tsc cpuid tsc_known_freq pni pclmulqdq ssse3\n",
            "                           fma cx16 pcid sse4_1 sse4_2 x2apic movbe popcnt aes xsave avx f16c rdrand\n",
            "                           hypervisor lahf_lm abm 3dnowprefetch invpcid_single ssbd ibrs ibpb stibp \n",
            "                          fsgsbase tsc_adjust bmi1 hle avx2 smep bmi2 erms invpcid rtm rdseed adx sm\n",
            "                          ap xsaveopt arat md_clear arch_capabilities\n",
            "Virtualization features:  \n",
            "  Hypervisor vendor:      KVM\n",
            "  Virtualization type:    full\n",
            "Caches (sum of all):      \n",
            "  L1d:                    32 KiB (1 instance)\n",
            "  L1i:                    32 KiB (1 instance)\n",
            "  L2:                     256 KiB (1 instance)\n",
            "  L3:                     55 MiB (1 instance)\n",
            "NUMA:                     \n",
            "  NUMA node(s):           1\n",
            "  NUMA node0 CPU(s):      0,1\n",
            "Vulnerabilities:          \n",
            "  Gather data sampling:   Not affected\n",
            "  Itlb multihit:          Not affected\n",
            "  L1tf:                   Mitigation; PTE Inversion\n",
            "  Mds:                    Vulnerable; SMT Host state unknown\n",
            "  Meltdown:               Vulnerable\n",
            "  Mmio stale data:        Vulnerable\n",
            "  Reg file data sampling: Not affected\n",
            "  Retbleed:               Vulnerable\n",
            "  Spec rstack overflow:   Not affected\n",
            "  Spec store bypass:      Vulnerable\n",
            "  Spectre v1:             Vulnerable: __user pointer sanitization and usercopy barriers only; no swa\n",
            "                          pgs barriers\n",
            "  Spectre v2:             Vulnerable; IBPB: disabled; STIBP: disabled; PBRSB-eIBRS: Not affected; BH\n",
            "                          I: Vulnerable (Syscall hardening enabled)\n",
            "  Srbds:                  Not affected\n",
            "  Tsx async abort:        Vulnerable\n"
          ]
        }
      ],
      "source": [
        "!lscpu"
      ]
    },
    {
      "cell_type": "code",
      "source": [
        "import pyspark"
      ],
      "metadata": {
        "id": "fly59EtVzA-k"
      },
      "execution_count": 3,
      "outputs": []
    },
    {
      "cell_type": "code",
      "source": [
        "!pyspark"
      ],
      "metadata": {
        "colab": {
          "base_uri": "https://localhost:8080/"
        },
        "id": "k_dwuDMOzGWA",
        "outputId": "35c71dce-cc38-4207-a67e-c890b0beea9a"
      },
      "execution_count": 5,
      "outputs": [
        {
          "output_type": "stream",
          "name": "stdout",
          "text": [
            "Python 3.10.12 (main, Sep 11 2024, 15:47:36) [GCC 11.4.0] on linux\n",
            "Type \"help\", \"copyright\", \"credits\" or \"license\" for more information.\n",
            "Setting default log level to \"WARN\".\n",
            "To adjust logging level use sc.setLogLevel(newLevel). For SparkR, use setLogLevel(newLevel).\n",
            "24/10/30 09:40:56 WARN NativeCodeLoader: Unable to load native-hadoop library for your platform... using builtin-java classes where applicable\n",
            "Welcome to\n",
            "      ____              __\n",
            "     / __/__  ___ _____/ /__\n",
            "    _\\ \\/ _ \\/ _ `/ __/  '_/\n",
            "   /__ / .__/\\_,_/_/ /_/\\_\\   version 3.5.3\n",
            "      /_/\n",
            "\n",
            "Using Python version 3.10.12 (main, Sep 11 2024 15:47:36)\n",
            "Spark context Web UI available at http://47f99482fd3d:4040\n",
            "Spark context available as 'sc' (master = local[*], app id = local-1730281258011).\n",
            "SparkSession available as 'spark'.\n",
            ">>> \n",
            "Traceback (most recent call last):\n",
            "  File \"/usr/local/lib/python3.10/dist-packages/pyspark/context.py\", line 381, in signal_handler\n",
            "    self.cancelAllJobs()\n",
            "  File \"/usr/local/lib/python3.10/dist-packages/pyspark/context.py\", line 2446, in cancelAllJobs\n",
            "    self._jsc.sc().cancelAllJobs()\n",
            "  File \"/usr/local/lib/python3.10/dist-packages/pyspark/python/lib/py4j-0.10.9.7-src.zip/py4j/java_gateway.py\", line 1314, in __call__\n",
            "  File \"/usr/local/lib/python3.10/dist-packages/pyspark/python/lib/py4j-0.10.9.7-src.zip/py4j/java_gateway.py\", line 1283, in _build_args\n",
            "  File \"/usr/local/lib/python3.10/dist-packages/pyspark/python/lib/py4j-0.10.9.7-src.zip/py4j/java_gateway.py\", line 1283, in <listcomp>\n",
            "  File \"/usr/local/lib/python3.10/dist-packages/pyspark/context.py\", line 382, in signal_handler\n",
            "    raise KeyboardInterrupt()\n",
            "KeyboardInterrupt\n",
            ">>> ^C\n"
          ]
        }
      ]
    },
    {
      "cell_type": "code",
      "source": [
        "from pyspark.sql import SparkSession"
      ],
      "metadata": {
        "id": "ZG8AkKd_zczR"
      },
      "execution_count": 6,
      "outputs": []
    },
    {
      "cell_type": "code",
      "source": [
        "spark = SparkSession.builder.appName(\"MySparkApp\").config('spark.ui.port','4040').getOrCreate()"
      ],
      "metadata": {
        "id": "NikHVt84zg4Y"
      },
      "execution_count": 7,
      "outputs": []
    },
    {
      "cell_type": "code",
      "source": [
        "!npm install -g localtunnel\n",
        "!curl https://loca.lt/mytunnelpassword"
      ],
      "metadata": {
        "colab": {
          "base_uri": "https://localhost:8080/"
        },
        "id": "7bQnonUZz4KH",
        "outputId": "f19fa62a-d6b4-4c21-897a-bbfd2f34ea12"
      },
      "execution_count": 8,
      "outputs": [
        {
          "output_type": "stream",
          "name": "stdout",
          "text": [
            "\u001b[K\u001b[?25h\n",
            "added 22 packages, and audited 23 packages in 2s\n",
            "\n",
            "3 packages are looking for funding\n",
            "  run `npm fund` for details\n",
            "\n",
            "1 \u001b[33m\u001b[1mmoderate\u001b[22m\u001b[39m severity vulnerability\n",
            "\n",
            "To address all issues (including breaking changes), run:\n",
            "  npm audit fix --force\n",
            "\n",
            "Run `npm audit` for details.\n",
            "104.199.132.236"
          ]
        }
      ]
    },
    {
      "cell_type": "code",
      "source": [
        "!nohup lt --port 4040 &"
      ],
      "metadata": {
        "colab": {
          "base_uri": "https://localhost:8080/"
        },
        "id": "5G09Qo6p0ST8",
        "outputId": "91fb488a-c362-485b-bf8c-c6538641995c"
      },
      "execution_count": 9,
      "outputs": [
        {
          "output_type": "stream",
          "name": "stdout",
          "text": [
            "nohup: appending output to 'nohup.out'\n"
          ]
        }
      ]
    },
    {
      "cell_type": "code",
      "source": [
        "!pip install Faker"
      ],
      "metadata": {
        "colab": {
          "base_uri": "https://localhost:8080/"
        },
        "id": "twc49d2F02gv",
        "outputId": "56499825-1a3a-4d33-8ec1-574b33b5c82d"
      },
      "execution_count": 10,
      "outputs": [
        {
          "output_type": "stream",
          "name": "stdout",
          "text": [
            "Collecting Faker\n",
            "  Downloading Faker-30.8.1-py3-none-any.whl.metadata (15 kB)\n",
            "Requirement already satisfied: python-dateutil>=2.4 in /usr/local/lib/python3.10/dist-packages (from Faker) (2.8.2)\n",
            "Requirement already satisfied: typing-extensions in /usr/local/lib/python3.10/dist-packages (from Faker) (4.12.2)\n",
            "Requirement already satisfied: six>=1.5 in /usr/local/lib/python3.10/dist-packages (from python-dateutil>=2.4->Faker) (1.16.0)\n",
            "Downloading Faker-30.8.1-py3-none-any.whl (1.8 MB)\n",
            "\u001b[2K   \u001b[90m━━━━━━━━━━━━━━━━━━━━━━━━━━━━━━━━━━━━━━━━\u001b[0m \u001b[32m1.8/1.8 MB\u001b[0m \u001b[31m18.6 MB/s\u001b[0m eta \u001b[36m0:00:00\u001b[0m\n",
            "\u001b[?25hInstalling collected packages: Faker\n",
            "Successfully installed Faker-30.8.1\n"
          ]
        }
      ]
    },
    {
      "cell_type": "code",
      "source": [
        "from faker import Faker\n",
        "from faker.providers.company.ru_RU import Provider\n",
        "import random"
      ],
      "metadata": {
        "id": "xnaLIRbb1Hqm"
      },
      "execution_count": 11,
      "outputs": []
    },
    {
      "cell_type": "code",
      "source": [
        "model = Faker('ru_RU')\n",
        "model.add_provider(Provider)"
      ],
      "metadata": {
        "id": "3KrNw42c1M0-"
      },
      "execution_count": 12,
      "outputs": []
    },
    {
      "cell_type": "code",
      "source": [
        "fake_dataset1 = []"
      ],
      "metadata": {
        "id": "SLv-RX-Q1XL6"
      },
      "execution_count": 13,
      "outputs": []
    },
    {
      "cell_type": "code",
      "source": [
        "for i in range(100):\n",
        " k=random.randint(0, 1)\n",
        " if k==1 :\n",
        "  name = model.company()\n",
        " else :\n",
        "  name = model.name()\n",
        "  bank_account = model.bban()\n",
        "  fake_dataset1.append((i, name, bank_account))"
      ],
      "metadata": {
        "id": "GAvQo6hg1aTi"
      },
      "execution_count": 15,
      "outputs": []
    },
    {
      "cell_type": "code",
      "source": [
        "v = spark.createDataFrame(fake_dataset1, schema=['id', 'Client', 'Bank Account'])"
      ],
      "metadata": {
        "id": "oUytZpZD1os7"
      },
      "execution_count": 16,
      "outputs": []
    },
    {
      "cell_type": "code",
      "source": [
        "fake_dataset2 = []"
      ],
      "metadata": {
        "id": "65pSI-Z_18nB"
      },
      "execution_count": 17,
      "outputs": []
    },
    {
      "cell_type": "code",
      "source": [
        "for i in range(200):\n",
        "  src = random.randint(0, 19)\n",
        "  dst = random.randint(0, 19)\n",
        "  summa = random.randint(0, 10000)\n",
        "  fake_dataset2.append((src, dst, summa))"
      ],
      "metadata": {
        "id": "j0n6NOcG2BRJ"
      },
      "execution_count": 18,
      "outputs": []
    },
    {
      "cell_type": "code",
      "source": [
        "e = spark.createDataFrame(fake_dataset2, schema=['src', 'dst', 'summa'])"
      ],
      "metadata": {
        "id": "h5a3uC3h2LJn"
      },
      "execution_count": 19,
      "outputs": []
    },
    {
      "cell_type": "code",
      "source": [
        "e.count()\n",
        "v.count()\n",
        "v.coalesce(2).show()\n",
        "e.coalesce(2).show()"
      ],
      "metadata": {
        "colab": {
          "base_uri": "https://localhost:8080/"
        },
        "id": "zYyEi9sA2l-F",
        "outputId": "46ab251a-a3c3-4512-b658-29faa6e92270"
      },
      "execution_count": 20,
      "outputs": [
        {
          "output_type": "stream",
          "name": "stdout",
          "text": [
            "+---+--------------------+-----------------+\n",
            "| id|              Client|     Bank Account|\n",
            "+---+--------------------+-----------------+\n",
            "|  1|Самсонов Олег Арх...|GYVL2825412760864|\n",
            "|  2|Наталья Анатольев...|MMFD5540584564347|\n",
            "|  4|Евстафий Валериан...|MCIC4845310152085|\n",
            "|  6|Доронина Светлана...|IPTV8264140337005|\n",
            "|  7|Любосмысл Алексан...|JMQP7496377646851|\n",
            "|  9|Комиссарова Жанна...|OJVU5834065293915|\n",
            "| 10|Елизавета Захаров...|ZKBX8644470490458|\n",
            "| 15|Наина Васильевна ...|RHGU8046243610516|\n",
            "| 16|Любомир Авдеевич ...|YCHC7470200757985|\n",
            "| 20|Ковалев Исидор Вл...|DNOV9670531774153|\n",
            "| 23|Власова Дарья Кон...|PIBK6153930276712|\n",
            "| 27|Аскольд Антонович...|BJES4322382568832|\n",
            "| 28|Владилен Эдгарови...|KYEI1818284585412|\n",
            "| 31|Кондратьева Ирина...|APOH9953245905048|\n",
            "| 33|Ладимир Устинович...|BMAF6567922077772|\n",
            "| 35|Корнилова Нонна В...|IIKV2989540710279|\n",
            "| 36|Антонов Адриан Фокич|DGRU7808601095959|\n",
            "| 37|Афиноген Эдгарови...|YPPJ4696280119174|\n",
            "| 39|Синклитикия Эдуар...|MLIE8965058718283|\n",
            "| 42|Казакова Ия Мирон...|ISMV2508130611248|\n",
            "+---+--------------------+-----------------+\n",
            "only showing top 20 rows\n",
            "\n",
            "+---+---+-----+\n",
            "|src|dst|summa|\n",
            "+---+---+-----+\n",
            "|  4|  5|  104|\n",
            "| 14| 13| 4606|\n",
            "| 16| 11| 1420|\n",
            "| 15|  0| 6019|\n",
            "|  6| 16| 3994|\n",
            "| 12| 19|  258|\n",
            "| 18| 11| 3397|\n",
            "|  6| 17| 5537|\n",
            "| 12|  7| 5417|\n",
            "|  2|  3| 5627|\n",
            "|  0|  0|  854|\n",
            "|  4|  4| 2493|\n",
            "| 11|  0| 3660|\n",
            "| 18| 11| 4083|\n",
            "| 13| 14|  211|\n",
            "| 16| 14| 3217|\n",
            "|  8| 17|   19|\n",
            "|  9|  8| 2790|\n",
            "| 17|  0| 8506|\n",
            "| 18| 16| 8696|\n",
            "+---+---+-----+\n",
            "only showing top 20 rows\n",
            "\n"
          ]
        }
      ]
    }
  ]
}